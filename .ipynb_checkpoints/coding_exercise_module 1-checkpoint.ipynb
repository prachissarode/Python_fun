{
 "cells": [
  {
   "cell_type": "markdown",
   "metadata": {},
   "source": [
    "# Multiple variable input() in single line"
   ]
  },
  {
   "cell_type": "code",
   "execution_count": 7,
   "metadata": {},
   "outputs": [
    {
     "name": "stdout",
     "output_type": "stream",
     "text": [
      "Enter two of your lucky number: 4 7\n",
      "First lucky number is:  4\n",
      "Second lucky number is:  7\n"
     ]
    }
   ],
   "source": [
    "# Python program to take multiple inputs from the user\n",
    "a, b = input(\"Enter two of your lucky number: \").split() \n",
    "print(\"First lucky number is: \",a) \n",
    "print(\"Second lucky number is: \",b) "
   ]
  },
  {
   "cell_type": "code",
   "execution_count": 9,
   "metadata": {},
   "outputs": [
    {
     "name": "stdout",
     "output_type": "stream",
     "text": [
      "Enter two values: 56 78\n",
      "First Number is:  56\n",
      "Second Number is:  78\n",
      "Enter your first and last name prachi sarode\n",
      "First Name is:  prachi\n",
      "Second Name is:  sarode\n"
     ]
    }
   ],
   "source": [
    "#multiple inputs in Python using map\n",
    "x, y = map(int, input(\"Enter two values: \").split())\n",
    "print(\"First Number is: \", x) \n",
    "print(\"Second Number is: \", y)\n",
    "\n",
    "#multiple inputs in Python using map\n",
    "x, y = map(str, input(\"Enter your first and last name \").split())\n",
    "print(\"First Name is: \", x) \n",
    "print(\"Second Name is: \", y)"
   ]
  },
  {
   "cell_type": "markdown",
   "metadata": {},
   "source": [
    "# Module 1 Assignment exercise Answers"
   ]
  },
  {
   "cell_type": "code",
   "execution_count": null,
   "metadata": {},
   "outputs": [],
   "source": [
    "time = 257 # Initialize total number of seconds.\n",
    "minutes = time // 60 # Calculate minutes.\n",
    "seconds = time - minutes * 60 # Calculate seconds.\n",
    "minutes, seconds # Show minutes and seconds."
   ]
  },
  {
   "cell_type": "code",
   "execution_count": null,
   "metadata": {},
   "outputs": [],
   "source": [
    "a=0b00001100\n",
    "b=0b00111101\n",
    "print(a&b)\n",
    "print(a|b)\n",
    "print(a^b)\n",
    "d=60\n",
    "c=d<<2\n",
    "z=d>>2\n",
    "print(c)\n",
    "print(z)"
   ]
  },
  {
   "cell_type": "code",
   "execution_count": null,
   "metadata": {},
   "outputs": [],
   "source": [
    "print ('\\n0:Sun \\n1:Mon \\n2:Tus \\n3:Wed \\n4:Thus \\n5:Fri \\n6:Sat\\n')\n",
    "start_day = int(input(\"From 0-6 On which day number you are leaving?  :\"))\n",
    "days_to_wait = int(input(\"How many days of Holiday? \"))\n",
    "end_day = (start_day + days_to_wait) % 7\n",
    "print (\"You will reurn on the day: \",end_day)"
   ]
  },
  {
   "cell_type": "code",
   "execution_count": 2,
   "metadata": {},
   "outputs": [
    {
     "name": "stdout",
     "output_type": "stream",
     "text": [
      "Number of students in each group:\n",
      "Class 1: 6 \n",
      "Class 2: 6 \n",
      "Class 3: 8\n",
      "Number of students leftover:\n",
      "Class 1: 2 \n",
      "Class 2: 3 \n",
      "Class 3: 3\n"
     ]
    }
   ],
   "source": [
    "grp_1,leftover_1 = divmod(32,5)\n",
    "grp_2,leftover_2 = divmod(45,7)\n",
    "grp_3,leftover_3 = divmod(51,6)\n",
    "print ('Number of students in each group:')\n",
    "print(\"Class 1:\",grp_1, \"\\nClass 2:\",grp_2,\"\\nClass 3:\",grp_3)\n",
    "print(\"Number of students leftover:\")\n",
    "print(\"Class 1:\",leftover_1, \"\\nClass 2:\",leftover_2,\"\\nClass 3:\",leftover_3)"
   ]
  },
  {
   "cell_type": "code",
   "execution_count": null,
   "metadata": {},
   "outputs": [],
   "source": [
    "time_now = float(input(\"what hour is it now? :\"))\n",
    "wait_time = float(input(\"how many hours to wait? :\"))\n",
    "hour_future = (time_now + wait_time) % 24\n",
    "print(\"After waiting\", wait_time, \"hours, it'll be\", hour_future, \"o'clock\")"
   ]
  },
  {
   "cell_type": "code",
   "execution_count": 1,
   "metadata": {},
   "outputs": [
    {
     "name": "stdout",
     "output_type": "stream",
     "text": [
      "Jimmy’s pie has a circumference:  169.56\n"
     ]
    }
   ],
   "source": [
    "pi = 3.14\n",
    "pie_diameter = 55.4\n",
    "pie_radius = pie_diameter // 2\n",
    "circumference = 2 * pi * pie_radius\n",
    "circumference_msg = \"Jimmy’s pie has a circumference: \"\n",
    "print(circumference_msg, circumference)\n"
   ]
  },
  {
   "cell_type": "code",
   "execution_count": null,
   "metadata": {},
   "outputs": [],
   "source": [
    "s = \"malayalam\"\n",
    "print(s == s[::-1])"
   ]
  },
  {
   "cell_type": "code",
   "execution_count": null,
   "metadata": {},
   "outputs": [],
   "source": [
    "\"\"\"Assgn 1:: Given a string and an integer number n, \n",
    "remove characters from a string starting \n",
    "from zero up to n and return a new string\"\"\"\n",
    "str = \"pynative\"\n",
    "print(\"Removing n number of chars\",str[4:])"
   ]
  },
  {
   "cell_type": "code",
   "execution_count": null,
   "metadata": {},
   "outputs": [],
   "source": [
    "\"\"\"Write a Python program which accepts the radius of a circle from the user and compute the area.\"\"\"\n",
    "from math import pi\n",
    "r = float(input (\"Input the radius of the circle : \"))\n",
    "print (\"The area of the circle with radius \" + str(r) + \" is: \" + str(pi * r**2))"
   ]
  },
  {
   "cell_type": "code",
   "execution_count": null,
   "metadata": {},
   "outputs": [],
   "source": [
    "\"\"\"Write a Python program to solve (x + y) * (x + y).\n",
    "\n",
    "Test Data : x = 4, y = 3\n",
    "Expected Output : (4 + 3) ^ 2) = 49\"\"\"\n",
    "x, y = 4, 3\n",
    "result = x * x + 2 * x * y + y * y\n",
    "print(\"({} + {}) ^ 2) = {}\".format(x, y, result))"
   ]
  },
  {
   "cell_type": "code",
   "execution_count": null,
   "metadata": {},
   "outputs": [],
   "source": [
    "\"\"\"Write a Python program to test whether a passed character is a vowel or not.\"\"\"\n",
    "all_vowels = 'aeiou'\n",
    "str = input(\"Enter your character to check:\")\n",
    "\n",
    "print(\"Result of checking: \",str in all_vowels)"
   ]
  },
  {
   "cell_type": "code",
   "execution_count": null,
   "metadata": {},
   "outputs": [],
   "source": [
    "\"\"\"Write a Python program to convert height (in feet and inches) to centimeters.\"\"\"\n",
    "print(\"Input your height: \")\n",
    "h_ft = int(input(\"Feet: \"))\n",
    "h_inch = int(input(\"Inches: \"))\n",
    "\n",
    "h_inch += h_ft * 12\n",
    "\n",
    "h_cm = round(h_inch * 2.54, 1)\n",
    "\n",
    "print(\"Your height is : %d cm.\" % h_cm)"
   ]
  },
  {
   "cell_type": "code",
   "execution_count": null,
   "metadata": {},
   "outputs": [],
   "source": [
    "\"\"\"Write a Python program to count the number of occurrence of a specific character in a string.\"\"\"\n",
    "s = \"The quick brown fox jumps over the lazy dog.\"\n",
    "print()\n",
    "print(s.count(\"q\"))\n",
    "print()"
   ]
  },
  {
   "cell_type": "code",
   "execution_count": null,
   "metadata": {},
   "outputs": [],
   "source": [
    "\"\"\"Write a Python program to get the details of math module.\"\"\"\n",
    "# Imports the math module\n",
    "import math            \n",
    "#Sets everything to a list of math module\n",
    "math_ls = dir(math) # \n",
    "print(math_ls)"
   ]
  },
  {
   "cell_type": "code",
   "execution_count": null,
   "metadata": {},
   "outputs": [],
   "source": [
    "str1 = 'A8238i823acdeOUEI'\n",
    "char = input(\"Enter character you want to search\")\n",
    "print((char.lower() in str1))"
   ]
  }
 ],
 "metadata": {
  "kernelspec": {
   "display_name": "Python 3",
   "language": "python",
   "name": "python3"
  },
  "language_info": {
   "codemirror_mode": {
    "name": "ipython",
    "version": 3
   },
   "file_extension": ".py",
   "mimetype": "text/x-python",
   "name": "python",
   "nbconvert_exporter": "python",
   "pygments_lexer": "ipython3",
   "version": "3.8.5"
  }
 },
 "nbformat": 4,
 "nbformat_minor": 4
}
