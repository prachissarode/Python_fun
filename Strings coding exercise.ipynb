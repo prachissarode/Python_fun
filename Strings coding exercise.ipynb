{
 "cells": [
  {
   "cell_type": "markdown",
   "metadata": {},
   "source": [
    "# Strings coding excercise"
   ]
  },
  {
   "cell_type": "code",
   "execution_count": 1,
   "metadata": {},
   "outputs": [
    {
     "name": "stdout",
     "output_type": "stream",
     "text": [
      "Input a string as you wish: \n",
      "welcome\n",
      "total number of character in this string is:  7\n"
     ]
    }
   ],
   "source": [
    "#The total number of characters in the string\n",
    "str1=input(\"Input a string as you wish: \\n\")\n",
    "total=0\n",
    "i=0\n",
    "while(i<len(str1)):\n",
    "  if(str1[i]!=' '):#avoid counting the space using this condition\n",
    "   total=total+1\n",
    "  i=i+1\n",
    "print(\"total number of character in this string is: \", total)"
   ]
  },
  {
   "cell_type": "markdown",
   "metadata": {},
   "source": [
    "The total number of characters in the string"
   ]
  },
  {
   "cell_type": "code",
   "execution_count": 2,
   "metadata": {},
   "outputs": [
    {
     "name": "stdout",
     "output_type": "stream",
     "text": [
      "welcomewelcomewelcomewelcomewelcomewelcomewelcomewelcomewelcomewelcome\n"
     ]
    }
   ],
   "source": [
    "print(str1*10)"
   ]
  },
  {
   "cell_type": "markdown",
   "metadata": {},
   "source": [
    "The first character of the string (remember that string indices start at 0)"
   ]
  },
  {
   "cell_type": "code",
   "execution_count": 4,
   "metadata": {},
   "outputs": [
    {
     "name": "stdout",
     "output_type": "stream",
     "text": [
      "w\n"
     ]
    }
   ],
   "source": [
    "print(str1[0])"
   ]
  },
  {
   "cell_type": "markdown",
   "metadata": {},
   "source": [
    "##The first three characters of the string\n",
    "##The last three characters of the string"
   ]
  },
  {
   "cell_type": "code",
   "execution_count": 12,
   "metadata": {},
   "outputs": [
    {
     "name": "stdout",
     "output_type": "stream",
     "text": [
      "wel\n",
      "ome\n"
     ]
    }
   ],
   "source": [
    "print(str1[:3])\n",
    "\n",
    "#The last three characters of the string\n",
    "\n",
    "print(str1[-3:])"
   ]
  },
  {
   "cell_type": "markdown",
   "metadata": {},
   "source": [
    "The string backwards"
   ]
  },
  {
   "cell_type": "code",
   "execution_count": 17,
   "metadata": {},
   "outputs": [
    {
     "name": "stdout",
     "output_type": "stream",
     "text": [
      "emoclew\n"
     ]
    }
   ],
   "source": [
    "print(str1[::-1]) #We can reverse a string using slicing by providing the step value as -1."
   ]
  },
  {
   "cell_type": "markdown",
   "metadata": {},
   "source": [
    "The string with its first and last characters removed"
   ]
  },
  {
   "cell_type": "code",
   "execution_count": 19,
   "metadata": {},
   "outputs": [
    {
     "name": "stdout",
     "output_type": "stream",
     "text": [
      "elcom\n"
     ]
    }
   ],
   "source": [
    "print(str1[1:-1])"
   ]
  },
  {
   "cell_type": "code",
   "execution_count": 22,
   "metadata": {},
   "outputs": [
    {
     "name": "stdout",
     "output_type": "stream",
     "text": [
      "WELCOME\n",
      "walcoma\n",
      "w lcom \n"
     ]
    }
   ],
   "source": [
    "\"\"\"The string in all caps\n",
    "(j) The string with every a replaced with an e\n",
    "(k) The string with every letter replaced by a space\"\"\"\n",
    "print(str1.upper())\n",
    "print(str1.replace(\"e\",\"a\"))\n",
    "print(str1.replace(\"e\",\" \"))\n"
   ]
  },
  {
   "cell_type": "code",
   "execution_count": 25,
   "metadata": {},
   "outputs": [
    {
     "name": "stdout",
     "output_type": "stream",
     "text": [
      "Enter the string to check:rar\n",
      "String is rar is palidrom\n"
     ]
    }
   ],
   "source": [
    "\"\"\"Write a program that asks the user to enter a word and determines whether the word is a\n",
    "palindrome or not. A palindrome is a word that reads the same backwards as forwards.\"\"\"\n",
    "txt = input(\"Enter the string to check:\")\n",
    "if txt[::] == txt[::-1]:\n",
    "    print(\"String is {} is palidrome\".format(txt))\n",
    "else:\n",
    "    print(\"Opps\")"
   ]
  },
  {
   "cell_type": "code",
   "execution_count": 23,
   "metadata": {},
   "outputs": [
    {
     "name": "stdout",
     "output_type": "stream",
     "text": [
      "Hello he said and went\n"
     ]
    }
   ],
   "source": [
    "# define punctuation\n",
    "punctuations = '''!()-[]{};:'\"\\,<>./?@#$%^&*_~'''\n",
    "\n",
    "my_str = \"Hello!!!, he said ---and went.\"\n",
    "\n",
    "# To take input from the user\n",
    "# my_str = input(\"Enter a string: \")\n",
    "\n",
    "# remove punctuation from the string\n",
    "no_punct = \"\"\n",
    "for char in my_str:\n",
    "   if char not in punctuations:\n",
    "       no_punct = no_punct + char\n",
    "\n",
    "# display the unpunctuated string\n",
    "print(no_punct)"
   ]
  },
  {
   "cell_type": "code",
   "execution_count": 35,
   "metadata": {},
   "outputs": [
    {
     "name": "stdout",
     "output_type": "stream",
     "text": [
      "please enter no. of emails1\n",
      "enter emailpp@students.mitwpu.edu.in\n",
      ".mitwpu.edu.in\n",
      "number of students= 0 number of professors= 1\n"
     ]
    }
   ],
   "source": [
    "nStudents=0\n",
    "nProfs=0\n",
    "a=int(input('please enter no. of emails'))\n",
    "\n",
    "for i in range(a):\n",
    "    b=input('enter email')\n",
    "    print(b[-14:])\n",
    "    if b[-14:] =='@mitwpu.edu.in':\n",
    "        nStudents=nStudents+1\n",
    "    elif b[-23:]=='@students.mitwpu.edu.in':\n",
    "        nProfs=nProfs+1\n",
    "print('number of students=',nStudents,'number of professors=',nProfs)"
   ]
  },
  {
   "cell_type": "code",
   "execution_count": 36,
   "metadata": {},
   "outputs": [
    {
     "name": "stdout",
     "output_type": "stream",
     "text": [
      "please enter no. of emails: 2\n",
      "enter email: pp@student.college.edu\n",
      "enter email: ss@prof.college.edu\n",
      "number of students= 1 number of professors= 1\n"
     ]
    }
   ],
   "source": [
    "nStudents = 0\n",
    "nProfs = 0\n",
    "a=int(input('please enter no. of emails: '))\n",
    "\n",
    "for i in range(a):\n",
    "    b=input('enter email: ')\n",
    "    if b.endswith('@student.college.edu'):\n",
    "        nStudents += 1\n",
    "    elif b.endswith('@prof.college.edu'):\n",
    "        nProfs += 1\n",
    "print('number of students=',nStudents,'number of professors=',nProfs)"
   ]
  },
  {
   "cell_type": "code",
   "execution_count": 37,
   "metadata": {},
   "outputs": [
    {
     "name": "stdout",
     "output_type": "stream",
     "text": [
      "please enter no. of emails: 2\n",
      "enter email: pp@student.college.edu\n",
      "enter email: ss@prof.college.edu\n",
      "number of students= 1 number of professors= 1\n"
     ]
    }
   ],
   "source": [
    "nStudents = 0\n",
    "nProfs = 0\n",
    "a=int(input('please enter no. of emails: '))\n",
    "\n",
    "for i in range(a):\n",
    "    b=input('enter email: ')\n",
    "    if b.split('@')[1] == 'student.college.edu':\n",
    "        nStudents += 1\n",
    "    elif b.split('@')[1] == 'prof.college.edu':\n",
    "        nProfs += 1\n",
    "print('number of students=',nStudents,'number of professors=',nProfs)"
   ]
  },
  {
   "cell_type": "code",
   "execution_count": 56,
   "metadata": {},
   "outputs": [
    {
     "name": "stdout",
     "output_type": "stream",
     "text": [
      "Enetr word that contain 'a' in it: buffalo\n",
      "buff\n",
      "lo\n"
     ]
    }
   ],
   "source": [
    "\"\"\"Write a program that asks the user to enter a word that contains the letter a. The program\n",
    "should then print the following two lines: On the first line should be the part of the string up\n",
    "to and including the first a, and on the second line should be the rest of the string. Sample\n",
    "output is shown below:\n",
    "\"\"\"\n",
    "word = input((\"Enetr word that contain 'a' in it: \"))\n",
    "ch, ch1 = word.split('a')\n",
    "print(ch)\n",
    "print(ch1)\n"
   ]
  },
  {
   "cell_type": "code",
   "execution_count": 4,
   "metadata": {},
   "outputs": [
    {
     "name": "stdout",
     "output_type": "stream",
     "text": [
      "PRaChI\n"
     ]
    }
   ],
   "source": [
    "\"\"\"Write a program that asks the user to enter a word and then capitalizes every other letter of\n",
    "that word. So if the user enters rhinoceros, the program should print rHiNoCeRoS\"\"\"\n",
    "# inp = input()\n",
    "inp = 'Prachi'\n",
    "outp = ''.join(c.upper() if i%2 else c for i, c in enumerate(inp))\n",
    "print(outp)"
   ]
  }
 ],
 "metadata": {
  "kernelspec": {
   "display_name": "Python 3",
   "language": "python",
   "name": "python3"
  },
  "language_info": {
   "codemirror_mode": {
    "name": "ipython",
    "version": 3
   },
   "file_extension": ".py",
   "mimetype": "text/x-python",
   "name": "python",
   "nbconvert_exporter": "python",
   "pygments_lexer": "ipython3",
   "version": "3.8.5"
  }
 },
 "nbformat": 4,
 "nbformat_minor": 4
}
