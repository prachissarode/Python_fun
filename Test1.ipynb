{
 "cells": [
  {
   "cell_type": "code",
   "execution_count": 1,
   "metadata": {},
   "outputs": [],
   "source": [
    "#This is our first Pyrhon Program"
   ]
  },
  {
   "cell_type": "code",
   "execution_count": 2,
   "metadata": {},
   "outputs": [],
   "source": [
    "#This is Our fist Python\n",
    "#We are trying multiline cooment\n",
    "#one more line for this USING Ctrl+ /"
   ]
  },
  {
   "cell_type": "markdown",
   "metadata": {},
   "source": [
    "#USe Of Doc strings"
   ]
  },
  {
   "cell_type": "code",
   "execution_count": 3,
   "metadata": {},
   "outputs": [
    {
     "name": "stdout",
     "output_type": "stream",
     "text": [
      "Welcome Hisss\n"
     ]
    }
   ],
   "source": [
    "\"\"\"This is document strings examples\n",
    "This is not comment. Text in doc strings are not ignore by interpreter.\n",
    "Comments are ignored by interpreter\"\"\"\n",
    "msg=\"Welcome Hisss\"\n",
    "print(msg)"
   ]
  },
  {
   "cell_type": "code",
   "execution_count": 6,
   "metadata": {},
   "outputs": [
    {
     "name": "stdout",
     "output_type": "stream",
     "text": [
      "This module provides access to the mathematical functions\n",
      "defined by the C standard.\n",
      "Return the square root of x.\n"
     ]
    }
   ],
   "source": [
    "import math\n",
    "print(math.__doc__)\n",
    "print(math.sqrt.__doc__)"
   ]
  },
  {
   "cell_type": "code",
   "execution_count": 4,
   "metadata": {},
   "outputs": [
    {
     "name": "stdout",
     "output_type": "stream",
     "text": [
      "Welcome Hisss\n"
     ]
    },
    {
     "data": {
      "text/plain": [
       "'This is document strings examples\\nThis is not comment. Text in doc strings are not ignore by interpreter.\\nComments are ignored by interpreter'"
      ]
     },
     "execution_count": 4,
     "metadata": {},
     "output_type": "execute_result"
    }
   ],
   "source": [
    "msg=\"Welcome Hisss\"\n",
    "print(msg)\n",
    "\"\"\"This is document strings examples\n",
    "This is not comment. Text in doc strings are not ignore by interpreter.\n",
    "Comments are ignored by interpreter\"\"\""
   ]
  },
  {
   "cell_type": "markdown",
   "metadata": {},
   "source": [
    "# Variable in Python"
   ]
  },
  {
   "cell_type": "code",
   "execution_count": 8,
   "metadata": {},
   "outputs": [
    {
     "name": "stdout",
     "output_type": "stream",
     "text": [
      "34777889 3.14567 (3+4j)\n",
      "<class 'int'>\n",
      "<class 'float'>\n",
      "<class 'complex'>\n"
     ]
    }
   ],
   "source": [
    "num1=34777889\n",
    "num2=3.14567\n",
    "num3=3+4j\n",
    "print(num1,num2,num3)\n",
    "print(type(num1))\n",
    "print(type(num2))\n",
    "print(type(num3))"
   ]
  },
  {
   "cell_type": "markdown",
   "metadata": {},
   "source": [
    "#Complex number modification"
   ]
  },
  {
   "cell_type": "code",
   "execution_count": 9,
   "metadata": {},
   "outputs": [
    {
     "name": "stdout",
     "output_type": "stream",
     "text": [
      "3.0\n",
      "4.0\n"
     ]
    }
   ],
   "source": [
    "print(num3.real)\n",
    "print(num3.imag)"
   ]
  },
  {
   "cell_type": "code",
   "execution_count": 13,
   "metadata": {},
   "outputs": [
    {
     "name": "stdout",
     "output_type": "stream",
     "text": [
      "(3-4j)\n"
     ]
    },
    {
     "data": {
      "text/plain": [
       "'conjugate of a complex number is obtained by changing the sign of its imaginary part. If the complex'"
      ]
     },
     "execution_count": 13,
     "metadata": {},
     "output_type": "execute_result"
    }
   ],
   "source": [
    "print(num3.conjugate())\n",
    "\"\"\"conjugate of a complex number is obtained by changing the sign of its imaginary part. If the complex\"\"\""
   ]
  },
  {
   "cell_type": "markdown",
   "metadata": {},
   "source": [
    "#Number conversion from int to float to int back"
   ]
  },
  {
   "cell_type": "markdown",
   "metadata": {},
   "source": [
    "# Number conversion from int to float to int back"
   ]
  },
  {
   "cell_type": "code",
   "execution_count": 24,
   "metadata": {},
   "outputs": [
    {
     "name": "stdout",
     "output_type": "stream",
     "text": [
      "3.9999 3\n",
      "4 4.0\n",
      "-4.894 -4\n",
      "<class 'str'> <class 'float'>\n"
     ]
    }
   ],
   "source": [
    "print(3.9999,int(3.9999))\n",
    "print(4,float(4))\n",
    "print(-4.894,int(-4.01))\n",
    "print(type(\"1234.5\"),type(float(\"1234.5\")))"
   ]
  },
  {
   "cell_type": "markdown",
   "metadata": {},
   "source": [
    "# A great deal of programming is about having the computer remember things"
   ]
  },
  {
   "cell_type": "code",
   "execution_count": 26,
   "metadata": {},
   "outputs": [
    {
     "name": "stdout",
     "output_type": "stream",
     "text": [
      "today\n",
      "<class 'str'>\n"
     ]
    }
   ],
   "source": [
    "day=31\n",
    "day=\"tuesday\"\n",
    "day=\"today\"\n",
    "print(day)\n",
    "print(type(day))"
   ]
  },
  {
   "cell_type": "markdown",
   "metadata": {},
   "source": [
    "# boolean data type"
   ]
  },
  {
   "cell_type": "code",
   "execution_count": 32,
   "metadata": {},
   "outputs": [
    {
     "name": "stdout",
     "output_type": "stream",
     "text": [
      "<class 'bool'> True\n",
      "False\n"
     ]
    }
   ],
   "source": [
    "print(type(10>9),10>9)\n",
    "print(9>10)"
   ]
  },
  {
   "cell_type": "markdown",
   "metadata": {},
   "source": [
    "# Binary , Octal and hexadecimal number conversion"
   ]
  },
  {
   "cell_type": "code",
   "execution_count": 41,
   "metadata": {},
   "outputs": [
    {
     "name": "stdout",
     "output_type": "stream",
     "text": [
      "binary: 5 \n",
      "Octal: 8 \n",
      "Hexadecimal: 16\n",
      "0b101\n",
      "0o10\n",
      "0x10\n"
     ]
    }
   ],
   "source": [
    "bin_num=0b101\n",
    "oct_num=0o10\n",
    "hex_num=0x10\n",
    "print(\"binary:\",bin_num,\"\\nOctal:\",oct_num,\"\\nHexadecimal:\",hex_num)\n",
    "\n",
    "\"\"\"Conversion of decimal numbers to bi,oc, hex\"\"\"\n",
    "i=5\n",
    "j=8\n",
    "k=16\n",
    "print(bin(i))\n",
    "print(oct(j))\n",
    "print(hex(k))"
   ]
  },
  {
   "cell_type": "markdown",
   "metadata": {},
   "source": [
    "# User input "
   ]
  },
  {
   "cell_type": "code",
   "execution_count": 43,
   "metadata": {},
   "outputs": [
    {
     "name": "stdout",
     "output_type": "stream",
     "text": [
      "Enter a value45.6\n",
      "45.6\n"
     ]
    }
   ],
   "source": [
    "number=input(\"Enter a value\")\n",
    "print(number)"
   ]
  },
  {
   "cell_type": "code",
   "execution_count": 45,
   "metadata": {},
   "outputs": [
    {
     "name": "stdout",
     "output_type": "stream",
     "text": [
      "Enter your age:34\n",
      "Your age is: 34\n"
     ]
    }
   ],
   "source": [
    "age=input(\"Enter your age:\")\n",
    "print(\"Your age is:\",age)"
   ]
  },
  {
   "cell_type": "code",
   "execution_count": 49,
   "metadata": {},
   "outputs": [
    {
     "name": "stdout",
     "output_type": "stream",
     "text": [
      "Enter your age:45\n",
      "Your retirement year are: 15\n"
     ]
    }
   ],
   "source": [
    "#Calculate number of retirement years\n",
    "age=int(input(\"Enter your age:\"))\n",
    "print(\"Your retirement year are:\",60-age)"
   ]
  },
  {
   "cell_type": "markdown",
   "metadata": {},
   "source": [
    "# Coding assgn: Convert user input in to hex, oct, and binary"
   ]
  },
  {
   "cell_type": "code",
   "execution_count": 59,
   "metadata": {},
   "outputs": [
    {
     "name": "stdout",
     "output_type": "stream",
     "text": [
      "Enter number for conversation10\n",
      "binary conversation of a 10 number is 0b1010 :\n"
     ]
    }
   ],
   "source": [
    "num_decimal=int(input(\"Enter number for conversation\"))\n",
    "print(\"binary conversation of a {} number is {} :\".format(num_decimal,bin(num_decimal)))"
   ]
  }
 ],
 "metadata": {
  "kernelspec": {
   "display_name": "Python 3",
   "language": "python",
   "name": "python3"
  },
  "language_info": {
   "codemirror_mode": {
    "name": "ipython",
    "version": 3
   },
   "file_extension": ".py",
   "mimetype": "text/x-python",
   "name": "python",
   "nbconvert_exporter": "python",
   "pygments_lexer": "ipython3",
   "version": "3.8.5"
  }
 },
 "nbformat": 4,
 "nbformat_minor": 4
}
