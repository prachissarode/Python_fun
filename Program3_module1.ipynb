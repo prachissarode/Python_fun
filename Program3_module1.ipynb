{
 "cells": [
  {
   "cell_type": "markdown",
   "metadata": {},
   "source": [
    "# Strings in Python"
   ]
  },
  {
   "cell_type": "code",
   "execution_count": 1,
   "metadata": {},
   "outputs": [
    {
     "name": "stdout",
     "output_type": "stream",
     "text": [
      "Hello World\n",
      "This is the second way of string\n",
      "This helps the multiline\n",
      "string declaration\n",
      "In Python string is immutable data type\n"
     ]
    }
   ],
   "source": [
    "str1=\"Hello World\"\n",
    "str2='This is the second way of string'\n",
    "str3=\"\"\"This helps the multiline\n",
    "string declaration\n",
    "In Python string is immutable data type\"\"\"\n",
    "print(str1)\n",
    "print(str2)\n",
    "print(str3)"
   ]
  },
  {
   "cell_type": "code",
   "execution_count": 2,
   "metadata": {},
   "outputs": [
    {
     "name": "stdout",
     "output_type": "stream",
     "text": [
      "11\n"
     ]
    }
   ],
   "source": [
    "#Length() of String\n",
    "print(len(str1))"
   ]
  },
  {
   "cell_type": "code",
   "execution_count": 3,
   "metadata": {},
   "outputs": [
    {
     "name": "stdout",
     "output_type": "stream",
     "text": [
      "83\n"
     ]
    }
   ],
   "source": [
    "str3=\"\"\"This helps the multiline\n",
    "string declaration\n",
    "In Python string is immutable data type\"\"\"\n",
    "print(len(str3))"
   ]
  },
  {
   "cell_type": "markdown",
   "metadata": {},
   "source": [
    "# Concatination,indexing, and Slicing of String"
   ]
  },
  {
   "cell_type": "code",
   "execution_count": 6,
   "metadata": {},
   "outputs": [
    {
     "name": "stdout",
     "output_type": "stream",
     "text": [
      "Hello World This is the second way of string\n",
      "Monty Pyhton\n"
     ]
    }
   ],
   "source": [
    "print(str1+\" \"+str2)\n",
    "a = 'Monty'\n",
    "b = \"Pyhton\"\n",
    "print(a+\" \"+b)"
   ]
  },
  {
   "cell_type": "markdown",
   "metadata": {},
   "source": [
    "# Multiplication of strings"
   ]
  },
  {
   "cell_type": "code",
   "execution_count": 8,
   "metadata": {},
   "outputs": [
    {
     "name": "stdout",
     "output_type": "stream",
     "text": [
      "AAAAAAAAAA\n",
      "%%--------------------\n"
     ]
    }
   ],
   "source": [
    "print(\"A\"*10);print(\"%\"*2+\"-\"*20)"
   ]
  },
  {
   "cell_type": "code",
   "execution_count": 9,
   "metadata": {},
   "outputs": [
    {
     "name": "stdout",
     "output_type": "stream",
     "text": [
      "P\n",
      "n\n",
      "negative indexing n\n"
     ]
    }
   ],
   "source": [
    "str1='Python'\n",
    "print(str1[0])\n",
    "\n",
    "print(str1[5])\n",
    "#negative indexing\n",
    "print(\"negative indexing:\",str1[-1])"
   ]
  },
  {
   "cell_type": "markdown",
   "metadata": {},
   "source": [
    "# Slicing Operator"
   ]
  },
  {
   "cell_type": "code",
   "execution_count": 16,
   "metadata": {},
   "outputs": [
    {
     "name": "stdout",
     "output_type": "stream",
     "text": [
      "Original String : Python Programming\n",
      "Second word:  Programming\n",
      "First word: Python\n",
      "String with step 2: 147\n",
      "True\n"
     ]
    }
   ],
   "source": [
    "str1=\"Python Programming\"\n",
    "print(\"Original String :\",str1)\n",
    "print(\"Second word: \",str1[7:])\n",
    "print(\"First word:\",str1[:6])\n",
    "str2=\"123456789\"\n",
    "print(\"String with step 2:\",str2[::3])\n",
    "print(\"Python\" in str1) #membership operator 'in' 'not in'"
   ]
  },
  {
   "cell_type": "code",
   "execution_count": 25,
   "metadata": {},
   "outputs": [
    {
     "name": "stdout",
     "output_type": "stream",
     "text": [
      "n\n"
     ]
    }
   ],
   "source": [
    "strr = \"pyhton\"\n",
    "print(strr[-1:6])"
   ]
  },
  {
   "cell_type": "markdown",
   "metadata": {},
   "source": [
    "# Strings methods in python"
   ]
  },
  {
   "cell_type": "code",
   "execution_count": 4,
   "metadata": {},
   "outputs": [
    {
     "name": "stdout",
     "output_type": "stream",
     "text": [
      "97 66 33 32\n"
     ]
    }
   ],
   "source": [
    "print(ord('a'), ord('B'), ord('!'), ord(' '))"
   ]
  },
  {
   "cell_type": "code",
   "execution_count": 5,
   "metadata": {},
   "outputs": [
    {
     "name": "stdout",
     "output_type": "stream",
     "text": [
      "A B !  \n"
     ]
    }
   ],
   "source": [
    "print(chr(65), chr(66), chr(33), chr(32))"
   ]
  },
  {
   "cell_type": "code",
   "execution_count": 15,
   "metadata": {},
   "outputs": [
    {
     "name": "stdout",
     "output_type": "stream",
     "text": [
      "Original string is : this a test string\n",
      "Capitalised first word : This a test string\n"
     ]
    }
   ],
   "source": [
    "#Capitalize\n",
    "str_test=\"this a test string\"\n",
    "print(\"Original string is :\",str_test)\n",
    "print(\"Capitalised first word :\",str_test.capitalize())"
   ]
  },
  {
   "cell_type": "code",
   "execution_count": 16,
   "metadata": {},
   "outputs": [
    {
     "name": "stdout",
     "output_type": "stream",
     "text": [
      "Lowercase to uppercase:  THIS A TEST STRING\n"
     ]
    }
   ],
   "source": [
    "# lowercase to uppercase\n",
    "print(\"Lowercase to uppercase: \",str_test.upper())"
   ]
  },
  {
   "cell_type": "code",
   "execution_count": 17,
   "metadata": {},
   "outputs": [
    {
     "name": "stdout",
     "output_type": "stream",
     "text": [
      "uppercase to lowercase:  this a test string\n"
     ]
    }
   ],
   "source": [
    "print(\"uppercase to lowercase: \",str_test.lower())"
   ]
  },
  {
   "cell_type": "code",
   "execution_count": 18,
   "metadata": {},
   "outputs": [
    {
     "name": "stdout",
     "output_type": "stream",
     "text": [
      "Original String: this is my small pyhton program\n",
      "After title case: This Is My Small Pyhton Program\n"
     ]
    }
   ],
   "source": [
    "#title case\n",
    "txt = \"this is my small pyhton program\"\n",
    "print(\"Original String:\",txt)\n",
    "\n",
    "print(\"After title case:\",txt.title())"
   ]
  },
  {
   "cell_type": "code",
   "execution_count": 43,
   "metadata": {},
   "outputs": [
    {
     "name": "stdout",
     "output_type": "stream",
     "text": [
      "Oringinal string     this is string example....wow!!!\n",
      "After lstrip this is string example....wow!!!\n",
      "this is string example....wow!!!*****\n",
      "*****this is string example....wow!!!\n",
      "this is string example....wow!!!\n"
     ]
    }
   ],
   "source": [
    "str = \"    this is string example....wow!!!\"\n",
    "print(\"Oringinal string\",str)\n",
    "print(\"After lstrip\",str.lstrip(\" \"))\n",
    "str = \"*****this is string example....wow!!!*****\"\n",
    "print(str.lstrip('*'))\n",
    "str = \"*****this is string example....wow!!!*****\"\n",
    "print(str.rstrip('*'))\n",
    "str = \"*****this is string example....wow!!!*****\"\n",
    "print(str.strip('*'))"
   ]
  },
  {
   "cell_type": "code",
   "execution_count": 31,
   "metadata": {},
   "outputs": [
    {
     "name": "stdout",
     "output_type": "stream",
     "text": [
      "3\n"
     ]
    }
   ],
   "source": [
    "#string.count(value, start, end)\n",
    "txt = \"I love apple, apple are my favorite apple fruit\"\n",
    "x = txt.count(\"apple\")\n",
    "print(x)"
   ]
  },
  {
   "cell_type": "code",
   "execution_count": 36,
   "metadata": {},
   "outputs": [
    {
     "name": "stdout",
     "output_type": "stream",
     "text": [
      "-1\n"
     ]
    }
   ],
   "source": [
    "#string.find(value, start, end)\n",
    "\"\"\"The find() method finds the first occurrence of the specified value,\n",
    "returns -1 if the value is not found.\n",
    "The find() method is almost the same as the index() method, \n",
    "the only difference is that the index() method \n",
    "raises an exception if the value is not found\"\"\"\n",
    "\n",
    "txt = \"Hello, welcome to my world of my.\"\n",
    "x = txt.find(\"x\")\n",
    "print(x)"
   ]
  },
  {
   "cell_type": "code",
   "execution_count": 37,
   "metadata": {},
   "outputs": [
    {
     "ename": "ValueError",
     "evalue": "substring not found",
     "output_type": "error",
     "traceback": [
      "\u001b[1;31m---------------------------------------------------------------------------\u001b[0m",
      "\u001b[1;31mValueError\u001b[0m                                Traceback (most recent call last)",
      "\u001b[1;32m<ipython-input-37-085c732c6e11>\u001b[0m in \u001b[0;36m<module>\u001b[1;34m\u001b[0m\n\u001b[0;32m      1\u001b[0m \u001b[1;31m#index()\u001b[0m\u001b[1;33m\u001b[0m\u001b[1;33m\u001b[0m\u001b[1;33m\u001b[0m\u001b[0m\n\u001b[0;32m      2\u001b[0m \u001b[0mtxt\u001b[0m \u001b[1;33m=\u001b[0m \u001b[1;34m\"Hello, welcome to my world of my.\"\u001b[0m\u001b[1;33m\u001b[0m\u001b[1;33m\u001b[0m\u001b[0m\n\u001b[1;32m----> 3\u001b[1;33m \u001b[0mx\u001b[0m \u001b[1;33m=\u001b[0m \u001b[0mtxt\u001b[0m\u001b[1;33m.\u001b[0m\u001b[0mindex\u001b[0m\u001b[1;33m(\u001b[0m\u001b[1;34m\"z\"\u001b[0m\u001b[1;33m)\u001b[0m\u001b[1;33m\u001b[0m\u001b[1;33m\u001b[0m\u001b[0m\n\u001b[0m\u001b[0;32m      4\u001b[0m \u001b[0mprint\u001b[0m\u001b[1;33m(\u001b[0m\u001b[0mx\u001b[0m\u001b[1;33m)\u001b[0m\u001b[1;33m\u001b[0m\u001b[1;33m\u001b[0m\u001b[0m\n",
      "\u001b[1;31mValueError\u001b[0m: substring not found"
     ]
    }
   ],
   "source": [
    "#index()\n",
    "txt = \"Hello, welcome to my world of my.\"\n",
    "x = txt.index(\"z\")\n",
    "print(x)"
   ]
  },
  {
   "cell_type": "code",
   "execution_count": 39,
   "metadata": {},
   "outputs": [
    {
     "name": "stdout",
     "output_type": "stream",
     "text": [
      "True\n"
     ]
    }
   ],
   "source": [
    "#string.endswith(value, start, end)\n",
    "\"\"\"The endswith() method returns True if the string ends with the specified value, otherwise False.\"\"\"\n",
    "txt = \"Hello, welcome to my world.\"\n",
    "x = txt.endswith(\"my world.\")\n",
    "print(x)\n"
   ]
  },
  {
   "cell_type": "code",
   "execution_count": null,
   "metadata": {},
   "outputs": [],
   "source": [
    "#join() function\n",
    "flavours = \"Mango Peru Strawberry\"\n",
    "x=\"*\"\n",
    "split_string = flavours.split()\n",
    "print(\"String is split :\",split_string)\n",
    "final_join = x.join(split_string)\n",
    "print(final_join)"
   ]
  },
  {
   "cell_type": "code",
   "execution_count": 57,
   "metadata": {},
   "outputs": [
    {
     "name": "stdout",
     "output_type": "stream",
     "text": [
      "of all fruits      banana      is my favorite\n",
      "of all fruits      banana      is my favorite\n"
     ]
    }
   ],
   "source": [
    "\"\"\"The strip() method removes any leading (spaces at the beginning) \n",
    "and trailing (spaces at the end) \n",
    "characters (space is the default leading character to remove)\"\"\"\n",
    "\n",
    "txt = \"     banana     \"\n",
    "print(\"of all fruits\", txt, \"is my favorite\")\n",
    "x = txt.strip()\n",
    "print(\"of all fruits\", x, \"is my favorite\")"
   ]
  },
  {
   "cell_type": "code",
   "execution_count": 40,
   "metadata": {},
   "outputs": [
    {
     "name": "stdout",
     "output_type": "stream",
     "text": [
      "th3s 3s str3ng 2x1mpl2....w4w!!!\n"
     ]
    }
   ],
   "source": [
    "\"\"\"The maketrans() method returns a translation table that maps each character in the\n",
    "intabstring into the character at the same position in the outtab string. Then this table is\n",
    "passed to the translate() function.\"\"\"\n",
    "intab = \"aeiou\"\n",
    "outtab = \"12345\"\n",
    "trantab = str.maketrans(intab, outtab)\n",
    "str = \"this is string example....wow!!!\"\n",
    "print (str.translate(trantab))"
   ]
  },
  {
   "cell_type": "code",
   "execution_count": 47,
   "metadata": {},
   "outputs": [
    {
     "name": "stdout",
     "output_type": "stream",
     "text": [
      "this is string examp5e....wow!!!\n"
     ]
    }
   ],
   "source": [
    "intab = \"l\"\n",
    "outtab = \"5\"\n",
    "str = \"this is string example....wow!!!\"\n",
    "transtab = str.maketrans(intab,outtab)\n",
    "#print(tab3)After maketrans function it return dictionary key value pair of intab and outtab\n",
    "print(str.translate(transtab))"
   ]
  },
  {
   "cell_type": "code",
   "execution_count": 52,
   "metadata": {},
   "outputs": [
    {
     "name": "stdout",
     "output_type": "stream",
     "text": [
      "thwas was string example....was was is wow!!!\n"
     ]
    }
   ],
   "source": [
    "\"\"\"This method returns a copy of the string with all occurrences of substring old replaced by\n",
    "new. If the optional argument max is given, only the first count occurrences are replaced.\n",
    "replace(old,new,max)\"\"\"\n",
    "str = \"this is string example....is is is wow!!!\"\n",
    "# does not make changes in existing string\n",
    "\n",
    "print(str.replace(\"is\",\"was\",4))"
   ]
  },
  {
   "cell_type": "markdown",
   "metadata": {},
   "source": [
    "# Format() method"
   ]
  },
  {
   "cell_type": "code",
   "execution_count": 8,
   "metadata": {},
   "outputs": [
    {
     "name": "stdout",
     "output_type": "stream",
     "text": [
      "Hello Jack!\n",
      "Seahawks 17, Eagles 22\n",
      "Seahawks 17, Eagles 22\n",
      "Seahawks 24, Eagles 22\n",
      "<class 'str'>\n",
      "Seahawks 24, Eagles 22\n"
     ]
    }
   ],
   "source": [
    "print(\"Hello {}!\".format(\"Jack\"))\n",
    "opponent = \"Eagles\"\n",
    "score_us = 17\n",
    "score_them = 22\n",
    "print(\"Seahawks {}, {} {}\".format(score_us, opponent, score_them))\n",
    "print('Seahawks 17, Eagles 22')\n",
    "final = \"Seahawks {}, {} {}\".format(score_us + 7, opponent,score_them)\n",
    "print(type(final))\n",
    "print(final)"
   ]
  }
 ],
 "metadata": {
  "kernelspec": {
   "display_name": "Python 3",
   "language": "python",
   "name": "python3"
  },
  "language_info": {
   "codemirror_mode": {
    "name": "ipython",
    "version": 3
   },
   "file_extension": ".py",
   "mimetype": "text/x-python",
   "name": "python",
   "nbconvert_exporter": "python",
   "pygments_lexer": "ipython3",
   "version": "3.8.5"
  }
 },
 "nbformat": 4,
 "nbformat_minor": 4
}
